{
 "cells": [
  {
   "cell_type": "code",
   "execution_count": 29,
   "metadata": {},
   "outputs": [
    {
     "name": "stdout",
     "output_type": "stream",
     "text": [
      "a 1\n",
      "b 2\n",
      "c 2\n",
      "d 1\n"
     ]
    }
   ],
   "source": [
    "# tutorial00\n",
    "from collections import defaultdict\n",
    "DEBUG = True\n",
    "\n",
    "d = defaultdict(lambda: 0)\n",
    "\n",
    "input_path = \"../test/00-input.txt\" \\\n",
    "    if DEBUG else \"../data/wiki-en-train.word\"\n",
    "\n",
    "with open(input_path) as f:\n",
    "    for s_line in f:\n",
    "        for word in s_line.split():\n",
    "            d[word] += 1\n",
    "\n",
    "for (key, value) in d.items():\n",
    "    print(key, value)"
   ]
  },
  {
   "cell_type": "code",
   "execution_count": 3,
   "metadata": {},
   "outputs": [
    {
     "name": "stdout",
     "output_type": "stream",
     "text": [
      "a 0.25\n",
      "b 0.25\n",
      "c 0.125\n",
      "</s> 0.25\n",
      "d 0.125\n",
      "entropy: 6.709899494272102\n",
      "coverage: 0.8\n"
     ]
    }
   ],
   "source": [
    "# tutorial01\n",
    "import math\n",
    "from collections import defaultdict\n",
    "DEBUG = True\n",
    "\n",
    "d = defaultdict(lambda: 0)\n",
    "\n",
    "train_data_path = \"../test/01-train-input.txt\" if DEBUG else \"../data/wiki-en-train.word\"\n",
    "test_data_path =  \"../test/01-test-input.txt\" if DEBUG else \"../data/wiki-en-test.word\"\n",
    "train_count_words = 0\n",
    "with open(train_data_path) as f:\n",
    "    for s_line in f:\n",
    "        words = s_line.split()\n",
    "        words.append(\"</s>\")\n",
    "        train_count_words += len(words)\n",
    "        for word in words:\n",
    "            d[word] += 1\n",
    "# sort dict\n",
    "if DEBUG:\n",
    "    for (key, value) in d.items():\n",
    "        print(key, value/ train_count_words)\n",
    "\n",
    "unknown_rate = 0.05\n",
    "n = 1000000\n",
    "# エントロピー\n",
    "entropy = 0\n",
    "test_count_words = 0\n",
    "with open(test_data_path) as f:\n",
    "    h_sum = 0\n",
    "    for s_line in f:\n",
    "        words = s_line.split()\n",
    "        words.append(\"</s>\")\n",
    "        test_count_words += len(words)\n",
    "        for word in words:\n",
    "            p = ((1 - unknown_rate) * d[word]/train_count_words) + (unknown_rate / n)\n",
    "            h = -math.log(p, 2)\n",
    "            h_sum += h\n",
    "    entropy = h_sum / test_count_words\n",
    "\n",
    "# カバレージ\n",
    "covered = 0\n",
    "with open(test_data_path) as f:\n",
    "    for s_line in f:\n",
    "        words = s_line.split()\n",
    "        words.append(\"</s>\")\n",
    "        for word in words:\n",
    "            if d[word] > 0:\n",
    "                covered += 1\n",
    "print(\"entropy: {}\".format(entropy))\n",
    "print(\"coverage: {}\".format(covered/test_count_words))\n"
   ]
  },
  {
   "cell_type": "code",
   "execution_count": 45,
   "metadata": {},
   "outputs": [
    {
     "name": "stdout",
     "output_type": "stream",
     "text": [
      "entropy = 6.709899\n",
      "coverage = 0.800000\n",
      "\n",
      "# Let's check this answer!\n",
      "#\n",
      "# The general probability is:\n",
      "#  P(x) = lambda_1 P_ML(x) + lambda_unk 1/1000000\n",
      "# \n",
      "# So the probability for each word is\n",
      "#  P(a) = 0.95*0.25 + 0.05*1/1000000    = .23750005\n",
      "#  P(c) = 0.95*0.125 + 0.05*1/1000000   = .11875005\n",
      "#  P(e) = 0.95*0 + 0.05*1/1000000       = .00000005\n",
      "#  P(</s>) = 0.95*0.25 + 0.05*1/1000000 = .23750005\n",
      "#\n",
      "# Thus, the entropy for a single word is:\n",
      "#  H(a)     = -log_2( .23750005 ) = 2.07400\n",
      "#  H(c)     = -log_2( .11875005 ) = 3.07399\n",
      "#  H(e)     = -log_2( .23750005 ) = 24.2534\n",
      "#  H(</s>)  = -log_2( .00000005 ) = 2.07400\n",
      "#\n",
      "# Taking the entropy of the total corpus, we get:\n",
      "#  ( H(a) + H(c) + H(</s>) + H(e) + H(</s>) ) / 5\n",
      "#  = 6.7098\n",
      "#\n",
      "# For the coverage, only one of the words \"e\" out of 5 is missing, so our\n",
      "# coverage is 4/5 = 0.8\n",
      "#\n",
      "# Note that we are dividing by 5, including the sentence final symbol. It is\n",
      "# also possible (and maybe more correct) to divide by 3, the total number of\n",
      "# actual words in the corpus. However, this will make our code a little bit\n",
      "# more complicated.\n"
     ]
    }
   ],
   "source": [
    "!cat ../test/01-test-answer.txt"
   ]
  },
  {
   "cell_type": "code",
   "execution_count": 62,
   "metadata": {},
   "outputs": [
    {
     "data": {
      "text/plain": [
       "0.5"
      ]
     },
     "execution_count": 62,
     "metadata": {},
     "output_type": "execute_result"
    }
   ],
   "source": []
  },
  {
   "cell_type": "code",
   "execution_count": null,
   "metadata": {},
   "outputs": [],
   "source": []
  }
 ],
 "metadata": {
  "kernelspec": {
   "display_name": "Python 3",
   "language": "python",
   "name": "python3"
  },
  "language_info": {
   "codemirror_mode": {
    "name": "ipython",
    "version": 3
   },
   "file_extension": ".py",
   "mimetype": "text/x-python",
   "name": "python",
   "nbconvert_exporter": "python",
   "pygments_lexer": "ipython3",
   "version": "3.7.1"
  }
 },
 "nbformat": 4,
 "nbformat_minor": 2
}
