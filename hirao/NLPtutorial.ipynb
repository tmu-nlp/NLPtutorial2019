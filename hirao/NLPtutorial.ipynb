{
 "cells": [
  {
   "cell_type": "code",
   "execution_count": 29,
   "metadata": {},
   "outputs": [
    {
     "name": "stdout",
     "output_type": "stream",
     "text": [
      "a 1\n",
      "b 2\n",
      "c 2\n",
      "d 1\n"
     ]
    }
   ],
   "source": [
    "# tutorial00\n",
    "from collections import defaultdict\n",
    "DEBUG = True\n",
    "\n",
    "d = defaultdict(lambda: 0)\n",
    "\n",
    "input_path = \"../test/00-input.txt\" \\\n",
    "    if DEBUG else \"../data/wiki-en-train.word\"\n",
    "\n",
    "with open(input_path) as f:\n",
    "    for s_line in f:\n",
    "        for word in s_line.split():\n",
    "            d[word] += 1\n",
    "\n",
    "for (key, value) in d.items():\n",
    "    print(key, value)"
   ]
  },
  {
   "cell_type": "code",
   "execution_count": 31,
   "metadata": {},
   "outputs": [
    {
     "name": "stdout",
     "output_type": "stream",
     "text": [
      "coverage: 0.6666666666666666\n"
     ]
    }
   ],
   "source": [
    "# tutorial01\n",
    "from collections import defaultdict\n",
    "DEBUG = True\n",
    "\n",
    "d = defaultdict(lambda: 0)\n",
    "\n",
    "train_data_path = \"../test/01-train-input.txt\" if DEBUG else \"../data/wiki-en-train.word\"\n",
    "test_data_path =  \"../test/01-test-input.txt\" if DEBUG else \"../data/wiki-en-test.word\"\n",
    "\n",
    "with open(train_data_path) as f:\n",
    "    for s_line in f:\n",
    "        for c in s_line.split():\n",
    "            d[c] += 1\n",
    "\n",
    "# カバレージ\n",
    "covered = 0\n",
    "count_all = 0\n",
    "with open(test_data_path) as f:\n",
    "    for s_line in f:\n",
    "        words = s_line.split()\n",
    "        count_all += len(words)\n",
    "        for word in words:\n",
    "            if d[word] > 0:\n",
    "                covered += 1\n",
    "print(\"coverage: {}\".format(covered/count_all))\n",
    "            "
   ]
  },
  {
   "cell_type": "code",
   "execution_count": null,
   "metadata": {},
   "outputs": [],
   "source": []
  }
 ],
 "metadata": {
  "kernelspec": {
   "display_name": "Python 3",
   "language": "python",
   "name": "python3"
  },
  "language_info": {
   "codemirror_mode": {
    "name": "ipython",
    "version": 3
   },
   "file_extension": ".py",
   "mimetype": "text/x-python",
   "name": "python",
   "nbconvert_exporter": "python",
   "pygments_lexer": "ipython3",
   "version": "3.7.1"
  }
 },
 "nbformat": 4,
 "nbformat_minor": 2
}
