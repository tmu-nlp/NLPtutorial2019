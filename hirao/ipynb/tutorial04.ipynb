{
 "cells": [
  {
   "cell_type": "code",
   "execution_count": 10,
   "metadata": {},
   "outputs": [
    {
     "data": {
      "text/plain": [
       "defaultdict(<function __main__.<lambda>()>,\n",
       "            {'X a': 2, 'Y b': 2, 'Z a': 1, 'X c': 1})"
      ]
     },
     "execution_count": 10,
     "metadata": {},
     "output_type": "execute_result"
    }
   ],
   "source": [
    "# train-hmm.py\n",
    "# test\n",
    "from collections import defaultdict\n",
    "\n",
    "train_input_path = \"../../test/05-train-input.txt\"\n",
    "\n",
    "# モデル読み込み\n",
    "transition = defaultdict(lambda: 0)\n",
    "emission = defaultdict(lambda: 0)\n",
    "possible_tags = defaultdict(lambda: 0)\n",
    "\n",
    "with open(train_input_path) as f:\n",
    "    for line in f:\n",
    "        # a_X b_Y a_Z\n",
    "        word_tags = line.split()\n",
    "        # ['a_X', 'b_Y', 'a_Z']\n",
    "        previous = \"<s>\"\n",
    "        possible_tags[previous] = 1\n",
    "        for word, tag in [x.split(\"_\") for x in word_tags]:\n",
    "            transition[f\"{previous} {tag}\"] += 1\n",
    "            possible_tags[tag] = 1\n",
    "            emission[f\"{tag} {word}\"] += 1\n",
    "            previous = tag\n",
    "        transition[f\"{previous} </s>\"] += 1"
   ]
  },
  {
   "cell_type": "code",
   "execution_count": 18,
   "metadata": {},
   "outputs": [
    {
     "name": "stdout",
     "output_type": "stream",
     "text": [
      "defaultdict(<function <lambda> at 0x7f12800478c8>, {'0 <s>': 0, '0 X': 0, '0 Y': 0, '0 Z': 0, '1 <s>': 0, '1 X': 0, '1 Y': 0, '1 Z': 0, '3 Y': 0, '4 </s>': 0.0, '3 Z': 0})\n",
      "defaultdict(<function <lambda> at 0x7f1280047bf8>, {'0 <s>': 0, '0 X': 0, '0 Y': 0, '0 Z': 0, '1 <s>': 0, '1 X': 0, '1 Y': 0, '1 Z': 0, '3 Y': 0, '4 </s>': 0.0, '3 Z': 0})\n"
     ]
    }
   ],
   "source": [
    "# test-hmm.py\n",
    "import math\n",
    "from collections import defaultdict\n",
    "\n",
    "test_input_path = \"../../test/05-test-input.txt\"\n",
    "UNKNOWN_RATE = 0.05\n",
    "N = 1e6\n",
    "\n",
    "with open(test_input_path) as f:\n",
    "    for line in f:\n",
    "        words = line.split()\n",
    "        l = len(words)\n",
    "        best_score = defaultdict(lambda: 0)\n",
    "        best_edge = defaultdict(lambda: None)\n",
    "        best_score[\"0 <s>\"] = 0\n",
    "        best_edge[\"0 <s>\"] = None\n",
    "        for i in range(l - 1):\n",
    "            for prev_tag in possible_tags.keys():\n",
    "                for next_tag in possible_tags.keys():\n",
    "                    if best_score[f\"{i} {prev_tag}\"] and transition[f\"{prev_tag} {next_tag}\"]:\n",
    "                        pt = transition[f\"{prev_tag} {next_tag}\"]\n",
    "                        pe = (1 - UNKNOWN_RATE) * emission[f\"{next_tag} {words[i]}\"] + UNKNOWN_RATE / N\n",
    "                        score = best_score[f\"{i} {prev_tag}\"] - math.log(pt, 2) - math.log(pe, 2)\n",
    "                        if best_score[f\"{i+1} {next_tag}\"] == 0 or best_score[f\"{i+1} {next_tag}\"] < score:\n",
    "                            best_score[f\"{i+1} {next_tag}\"] = score\n",
    "                            best_edge[f\"{i+1} {next_tag}\"] = f\"{i} {prev_tag}\"\n",
    "        for tag in possible_tags.keys():\n",
    "            if transition[f\"{tag} </s>\"]:\n",
    "                score = best_score[f\"{l} {tag}\"] - math.log(transition[f\"{tag} </s>\"], 2)\n",
    "                if best_score[f\"{l+1} </s>\"] == 0 or best_score[f\"{l+1} </s>\"] < score:\n",
    "                    best_score[f\"{l+1} </s>\"] = score\n",
    "                    best_edge[f\"{l+1} </s>\"] = f\"{l} {tag}\"\n",
    "        print(best_score)\n",
    "        # TODO"
   ]
  },
  {
   "cell_type": "code",
   "execution_count": 2,
   "metadata": {},
   "outputs": [
    {
     "name": "stdout",
     "output_type": "stream",
     "text": [
      "T <s> X 1.000000\n",
      "T X X 0.333333\n",
      "T X Y 0.666667\n",
      "T Y </s> 0.500000\n",
      "T Y Z 0.500000\n",
      "T Z </s> 1.000000\n",
      "E X a 0.666667\n",
      "E X c 0.333333\n",
      "E Y b 1.000000\n",
      "E Z a 1.000000\n"
     ]
    }
   ],
   "source": [
    "!cat ../../test/05-train-answer.txt | head -10"
   ]
  },
  {
   "cell_type": "code",
   "execution_count": 3,
   "metadata": {},
   "outputs": [
    {
     "name": "stdout",
     "output_type": "stream",
     "text": [
      "X Y Z\n",
      "X X Y\n"
     ]
    }
   ],
   "source": [
    "!cat ../../test/05-test-answer.txt | head -10"
   ]
  },
  {
   "cell_type": "code",
   "execution_count": null,
   "metadata": {},
   "outputs": [],
   "source": [
    "# train-hmm.py\n",
    "\n"
   ]
  },
  {
   "cell_type": "code",
   "execution_count": null,
   "metadata": {},
   "outputs": [],
   "source": [
    "# test-hmm.py\n"
   ]
  }
 ],
 "metadata": {
  "kernelspec": {
   "display_name": "Python 3",
   "language": "python",
   "name": "python3"
  },
  "language_info": {
   "codemirror_mode": {
    "name": "ipython",
    "version": 3
   },
   "file_extension": ".py",
   "mimetype": "text/x-python",
   "name": "python",
   "nbconvert_exporter": "python",
   "pygments_lexer": "ipython3",
   "version": "3.7.1"
  }
 },
 "nbformat": 4,
 "nbformat_minor": 2
}
