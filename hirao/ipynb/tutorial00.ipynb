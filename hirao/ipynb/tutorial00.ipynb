{
 "cells": [
  {
   "cell_type": "markdown",
   "metadata": {},
   "source": [
    "# プログラミングの基礎\n",
    "ファイルの中の単語の数を数えるプログラム"
   ]
  },
  {
   "cell_type": "code",
   "execution_count": 1,
   "metadata": {},
   "outputs": [
    {
     "name": "stdout",
     "output_type": "stream",
     "text": [
      "! 1\n",
      "% 39\n",
      "& 8\n",
      "' 19\n",
      "'' 194\n",
      "'s 51\n",
      "'ve 2\n",
      "+ 6\n",
      "+4 1\n",
      "+5 1\n"
     ]
    }
   ],
   "source": [
    "# tutorial00\n",
    "# ファイルの中の単語の頻度を数えるプログラムを作成\n",
    "from collections import defaultdict\n",
    "DEBUG = False\n",
    "\n",
    "# ディクショナリの初期値を0に設定\n",
    "d = defaultdict(lambda: 0)\n",
    "\n",
    "# デバッグモードの場合は短文を入力にする\n",
    "input_path = \"../../test/00-input.txt\" \\\n",
    "    if DEBUG else \"../../data/wiki-en-train.word\"\n",
    "\n",
    "with open(input_path) as f:\n",
    "    # 1行ずつ\n",
    "    for s_line in f:\n",
    "        # 文を単語に分割\n",
    "        for word in s_line.split():\n",
    "            # ディクショナリに1を足していく\n",
    "            d[word] += 1\n",
    "\n",
    "# 結果を表示\n",
    "for (key, value) in sorted(d.items())[:10]:\n",
    "    print(key, value)"
   ]
  },
  {
   "cell_type": "code",
   "execution_count": null,
   "metadata": {},
   "outputs": [],
   "source": []
  }
 ],
 "metadata": {
  "kernelspec": {
   "display_name": "Python 3",
   "language": "python",
   "name": "python3"
  },
  "language_info": {
   "codemirror_mode": {
    "name": "ipython",
    "version": 3
   },
   "file_extension": ".py",
   "mimetype": "text/x-python",
   "name": "python",
   "nbconvert_exporter": "python",
   "pygments_lexer": "ipython3",
   "version": "3.7.1"
  }
 },
 "nbformat": 4,
 "nbformat_minor": 2
}
