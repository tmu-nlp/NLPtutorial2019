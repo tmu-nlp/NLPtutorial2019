{
 "cells": [
  {
   "cell_type": "markdown",
   "metadata": {},
   "source": [
    "# 1-gram言語モデル\n",
    "trainの文書内の単語の頻度、出現数をカウント、学習し、\n",
    "\n",
    "testの文書でそのカバレージとエントロピーを表示する。"
   ]
  },
  {
   "cell_type": "code",
   "execution_count": 8,
   "metadata": {},
   "outputs": [],
   "source": [
    "DEBUG = False"
   ]
  },
  {
   "cell_type": "code",
   "execution_count": 9,
   "metadata": {},
   "outputs": [
    {
     "name": "stdout",
     "output_type": "stream",
     "text": [
      "Saved model in wiki-en-train-model.txt\n"
     ]
    }
   ],
   "source": [
    "# tutorial01 train\n",
    "from collections import defaultdict\n",
    "# DEBUG = False\n",
    "\n",
    "# ディクショナリの初期値を0に設定\n",
    "d = defaultdict(lambda: 0)\n",
    "\n",
    "# データパス\n",
    "train_data_path = \"../../test/01-train-input.txt\" if DEBUG else \"../../data/wiki-en-train.word\"\n",
    "save_model_path = \"train-input-model.txt\" if DEBUG else \"wiki-en-train-model.txt\"\n",
    "\n",
    "total_count = 0\n",
    "\n",
    "# テキストの読み込み\n",
    "with open(train_data_path) as f:\n",
    "    for line in f:\n",
    "        words = line.split()\n",
    "        words.append(\"</s>\")\n",
    "        # 特定の単語の出現数と全体の単語数をカウント\n",
    "        for word in words:\n",
    "            d[word] += 1\n",
    "            total_count += 1\n",
    "\n",
    "# 単語と出現率を出力\n",
    "with open(save_model_path, mode='w') as f:\n",
    "    for key, value in d.items():\n",
    "        prob = value / total_count\n",
    "        f.write(\"{} {}\\n\".format(key, prob))\n",
    "print(\"Saved model in {}\".format(save_model_path))"
   ]
  },
  {
   "cell_type": "code",
   "execution_count": 10,
   "metadata": {},
   "outputs": [
    {
     "name": "stdout",
     "output_type": "stream",
     "text": [
      "entropy = 10.527337238682652\n",
      "coverage = 0.895226024503591\n"
     ]
    }
   ],
   "source": [
    "# tutorial01 test\n",
    "import math\n",
    "from collections import defaultdict\n",
    "# DEBUG = False\n",
    "UNKNOWN_RATE = 0.05\n",
    "N = 1000000\n",
    "\n",
    "# ディクショナリの初期値を0に設定\n",
    "d = defaultdict(lambda: 0)\n",
    "\n",
    "# データパス\n",
    "model_path = \"train-input-model.txt\" if DEBUG else \"wiki-en-train-model.txt\"\n",
    "test_data_path =  \"../../test/01-test-input.txt\" if DEBUG else \"../../data/wiki-en-test.word\"\n",
    "\n",
    "# モデルの読み込み\n",
    "with open(model_path) as f:\n",
    "    for line in f:\n",
    "        word, prob = line.split()\n",
    "        d[word] = prob\n",
    "\n",
    "# 評価と結果表示\n",
    "total_word_count = 0\n",
    "total_unknown_count = 0\n",
    "h = 0\n",
    "with open(test_data_path) as f:\n",
    "    for line in f:\n",
    "        words = line.split()\n",
    "        words.append(\"</s>\")\n",
    "        for word in words:\n",
    "            total_word_count += 1\n",
    "            p = UNKNOWN_RATE / N\n",
    "            if d[word] != 0:\n",
    "                p += (1 - UNKNOWN_RATE) * float(d[word])\n",
    "            else:\n",
    "                total_unknown_count += 1\n",
    "            h += -math.log(p, 2)\n",
    "\n",
    "print(\"entropy = {}\".format(h/total_word_count))\n",
    "print(\"coverage = {}\".format((total_word_count - total_unknown_count)/total_word_count))"
   ]
  },
  {
   "cell_type": "code",
   "execution_count": 11,
   "metadata": {},
   "outputs": [
    {
     "name": "stdout",
     "output_type": "stream",
     "text": [
      "cat: ../test/01-test-answer.txt: No such file or directory\n"
     ]
    }
   ],
   "source": [
    "!cat ../test/01-test-answer.txt"
   ]
  },
  {
   "cell_type": "code",
   "execution_count": null,
   "metadata": {},
   "outputs": [],
   "source": []
  },
  {
   "cell_type": "code",
   "execution_count": null,
   "metadata": {},
   "outputs": [],
   "source": []
  }
 ],
 "metadata": {
  "kernelspec": {
   "display_name": "Python 3",
   "language": "python",
   "name": "python3"
  },
  "language_info": {
   "codemirror_mode": {
    "name": "ipython",
    "version": 3
   },
   "file_extension": ".py",
   "mimetype": "text/x-python",
   "name": "python",
   "nbconvert_exporter": "python",
   "pygments_lexer": "ipython3",
   "version": "3.7.1"
  }
 },
 "nbformat": 4,
 "nbformat_minor": 2
}
