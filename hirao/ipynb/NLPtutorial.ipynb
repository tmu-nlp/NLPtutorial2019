{
 "cells": [
  {
   "cell_type": "code",
   "execution_count": 5,
   "metadata": {},
   "outputs": [
    {
     "name": "stdout",
     "output_type": "stream",
     "text": [
      "a 1\n",
      "b 2\n",
      "c 2\n",
      "d 1\n"
     ]
    }
   ],
   "source": [
    "# tutorial00\n",
    "# ファイルの中の単語の頻度を数えるプログラムを作成\n",
    "from collections import defaultdict\n",
    "DEBUG = True\n",
    "\n",
    "# ディクショナリの初期値を0に設定\n",
    "d = defaultdict(lambda: 0)\n",
    "\n",
    "# デバッグモードの場合は短文を入力にする\n",
    "input_path = \"../../test/00-input.txt\" \\\n",
    "    if DEBUG else \"../../data/wiki-en-train.word\"\n",
    "\n",
    "with open(input_path) as f:\n",
    "    # 1行ずつ\n",
    "    for s_line in f:\n",
    "        # 文を単語に分割\n",
    "        for word in s_line.split():\n",
    "            # ディクショナリに1を足していく\n",
    "            d[word] += 1\n",
    "\n",
    "# 結果を表示\n",
    "for (key, value) in d.items():\n",
    "    print(key, value)"
   ]
  },
  {
   "cell_type": "code",
   "execution_count": 6,
   "metadata": {},
   "outputs": [
    {
     "name": "stdout",
     "output_type": "stream",
     "text": [
      "Saved model in wiki-en-train-model.txt\n"
     ]
    }
   ],
   "source": [
    "# tutorial01 train\n",
    "from collections import defaultdict\n",
    "DEBUG = False\n",
    "\n",
    "# ディクショナリの初期値を0に設定\n",
    "d = defaultdict(lambda: 0)\n",
    "\n",
    "# データパス\n",
    "train_data_path = \"../../test/01-train-input.txt\" if DEBUG else \"../../data/wiki-en-train.word\"\n",
    "save_model_path = \"train-input-model.txt\" if DEBUG else \"wiki-en-train-model.txt\"\n",
    "\n",
    "total_count = 0\n",
    "\n",
    "# テキストの読み込み\n",
    "with open(train_data_path) as f:\n",
    "    for line in f:\n",
    "        words = line.split()\n",
    "        words.append(\"</s>\")\n",
    "        # 特定の単語の出現数と全体の単語数をカウント\n",
    "        for word in words:\n",
    "            d[word] += 1\n",
    "            total_count += 1\n",
    "\n",
    "# 単語と出現率を出力\n",
    "with open(save_model_path, mode='w') as f:\n",
    "    for key, value in d.items():\n",
    "        prob = value / total_count\n",
    "        f.write(\"{} {}\\n\".format(key, prob))\n",
    "print(\"Saved model in {}\".format(save_model_path))"
   ]
  },
  {
   "cell_type": "code",
   "execution_count": 7,
   "metadata": {},
   "outputs": [
    {
     "name": "stdout",
     "output_type": "stream",
     "text": [
      "entropy = 10.527337238682652\n",
      "coverage = 0.895226024503591\n"
     ]
    }
   ],
   "source": [
    "# tutorial01 test\n",
    "import math\n",
    "from collections import defaultdict\n",
    "DEBUG = False\n",
    "UNKNOWN_RATE = 0.05\n",
    "N = 1000000\n",
    "\n",
    "# ディクショナリの初期値を0に設定\n",
    "d = defaultdict(lambda: 0)\n",
    "\n",
    "# データパス\n",
    "model_path = \"train-input-model.txt\" if DEBUG else \"wiki-en-train-model.txt\"\n",
    "test_data_path =  \"../../test/01-test-input.txt\" if DEBUG else \"../../data/wiki-en-test.word\"\n",
    "\n",
    "# モデルの読み込み\n",
    "with open(model_path) as f:\n",
    "    for line in f:\n",
    "        word, prob = line.split()\n",
    "        d[word] = prob\n",
    "\n",
    "# 評価と結果表示\n",
    "total_word_count = 0\n",
    "total_unknown_count = 0\n",
    "h = 0\n",
    "with open(test_data_path) as f:\n",
    "    for line in f:\n",
    "        words = line.split()\n",
    "        words.append(\"</s>\")\n",
    "        for word in words:\n",
    "            total_word_count += 1\n",
    "            p = UNKNOWN_RATE / N\n",
    "            if d[word] != 0:\n",
    "                p += (1 - UNKNOWN_RATE) * float(d[word])\n",
    "            else:\n",
    "                total_unknown_count += 1\n",
    "            h += -math.log(p, 2)\n",
    "\n",
    "print(\"entropy = {}\".format(h/total_word_count))\n",
    "print(\"coverage = {}\".format((total_word_count - total_unknown_count)/total_word_count))"
   ]
  },
  {
   "cell_type": "code",
   "execution_count": 9,
   "metadata": {},
   "outputs": [
    {
     "name": "stdout",
     "output_type": "stream",
     "text": [
      "entropy = 6.709899\n",
      "coverage = 0.800000\n",
      "\n",
      "# Let's check this answer!\n",
      "#\n",
      "# The general probability is:\n",
      "#  P(x) = lambda_1 P_ML(x) + lambda_unk 1/1000000\n",
      "# \n",
      "# So the probability for each word is\n",
      "#  P(a) = 0.95*0.25 + 0.05*1/1000000    = .23750005\n",
      "#  P(c) = 0.95*0.125 + 0.05*1/1000000   = .11875005\n",
      "#  P(e) = 0.95*0 + 0.05*1/1000000       = .00000005\n",
      "#  P(</s>) = 0.95*0.25 + 0.05*1/1000000 = .23750005\n",
      "#\n",
      "# Thus, the entropy for a single word is:\n",
      "#  H(a)     = -log_2( .23750005 ) = 2.07400\n",
      "#  H(c)     = -log_2( .11875005 ) = 3.07399\n",
      "#  H(e)     = -log_2( .23750005 ) = 24.2534\n",
      "#  H(</s>)  = -log_2( .00000005 ) = 2.07400\n",
      "#\n",
      "# Taking the entropy of the total corpus, we get:\n",
      "#  ( H(a) + H(c) + H(</s>) + H(e) + H(</s>) ) / 5\n",
      "#  = 6.7098\n",
      "#\n",
      "# For the coverage, only one of the words \"e\" out of 5 is missing, so our\n",
      "# coverage is 4/5 = 0.8\n",
      "#\n",
      "# Note that we are dividing by 5, including the sentence final symbol. It is\n",
      "# also possible (and maybe more correct) to divide by 3, the total number of\n",
      "# actual words in the corpus. However, this will make our code a little bit\n",
      "# more complicated.\n"
     ]
    }
   ],
   "source": [
    "!cat ../../test/01-test-answer.txt"
   ]
  },
  {
   "cell_type": "code",
   "execution_count": 62,
   "metadata": {},
   "outputs": [
    {
     "data": {
      "text/plain": [
       "0.5"
      ]
     },
     "execution_count": 62,
     "metadata": {},
     "output_type": "execute_result"
    }
   ],
   "source": []
  },
  {
   "cell_type": "code",
   "execution_count": null,
   "metadata": {},
   "outputs": [],
   "source": []
  }
 ],
 "metadata": {
  "kernelspec": {
   "display_name": "Python 3",
   "language": "python",
   "name": "python3"
  },
  "language_info": {
   "codemirror_mode": {
    "name": "ipython",
    "version": 3
   },
   "file_extension": ".py",
   "mimetype": "text/x-python",
   "name": "python",
   "nbconvert_exporter": "python",
   "pygments_lexer": "ipython3",
   "version": "3.6.7"
  }
 },
 "nbformat": 4,
 "nbformat_minor": 2
}
